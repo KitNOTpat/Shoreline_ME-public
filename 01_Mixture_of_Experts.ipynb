{
 "cells": [
  {
   "attachments": {},
   "cell_type": "markdown",
   "id": "99471121-c432-47c0-af9f-a57b13389c76",
   "metadata": {},
   "source": [
    "# Mixture of Experts \n",
    "\n",
    "LSTM enhanced with specialized linear storm model\n",
    "\n",
    "Kit Calcraft 05/08/2024"
   ]
  },
  {
   "cell_type": "code",
   "execution_count": null,
   "id": "9f75951b-d405-4f5c-a777-def32792983a",
   "metadata": {
    "tags": []
   },
   "outputs": [],
   "source": [
    "# magic\n",
    "%load_ext autoreload\n",
    "%autoreload 2                                                                                                          \n",
    "%pdb 1\n",
    "%matplotlib inline            "
   ]
  },
  {
   "cell_type": "code",
   "execution_count": null,
   "id": "3302f1ed-f177-4083-afa8-413575e1e456",
   "metadata": {},
   "outputs": [],
   "source": [
    "import numpy as np\n",
    "import pandas as pd\n",
    "import yaml\n",
    "from tqdm import tqdm\n",
    "\n",
    "#pytorch\n",
    "import torch\n",
    "from torch.utils.data import DataLoader\n",
    "\n",
    "# MODEL FUNCITONS\n",
    "from functions.load_data import data_select\n",
    "from functions.custom_datasets import SequenceDataset\n",
    "from functions.custom_loss_functions import cumulative_dx_loss\n",
    "from functions.misc import *\n",
    "from functions.model_utils import train, predict\n",
    "\n",
    "# MODELS\n",
    "from functions.MoE import MixtureOfExperts\n",
    "\n",
    "#statsitics & plotting\n",
    "import matplotlib.pyplot as plt\n",
    "from matplotlib.collections import LineCollection\n",
    "from matplotlib.lines import Line2D\n",
    "\n",
    "#check for gpu\n",
    "if torch.backends.mps.is_available():\n",
    "   device = torch.device(\"cpu\")\n",
    "   print(f\"Running Torch v{torch.__version__} on MPS device\")\n",
    "else:\n",
    "   print (\"Falling back to CPU\")\n"
   ]
  },
  {
   "attachments": {},
   "cell_type": "markdown",
   "id": "1c8d5ed4-450c-4601-b814-86e59be78d03",
   "metadata": {
    "tags": []
   },
   "source": [
    "### 0 - Load Settings & Model Parameters"
   ]
  },
  {
   "cell_type": "code",
   "execution_count": null,
   "id": "1d240ea4-c1ee-41e4-b8e4-f03c99596711",
   "metadata": {},
   "outputs": [],
   "source": [
    "settings = yaml.safe_load(open(\"config/model_settings.yml\", \"r\"))\n",
    "\n",
    "target = settings['target']\n",
    "batch_size = settings['batch_size']\n",
    "sequence_length = settings['sequence_length']"
   ]
  },
  {
   "attachments": {},
   "cell_type": "markdown",
   "id": "f3b70330-2085-4f74-82d4-408f313c2d9d",
   "metadata": {},
   "source": [
    "### 1 - Select, Split & Standardize Data"
   ]
  },
  {
   "cell_type": "code",
   "execution_count": null,
   "id": "30d1d332-c1c0-4a39-9406-19e12e5d3eb5",
   "metadata": {
    "tags": []
   },
   "outputs": [],
   "source": [
    "data = data_select(settings)\n",
    "data.train_test_split()\n",
    "data.standardize()\n",
    "plot_train_test(data, settings)"
   ]
  },
  {
   "attachments": {},
   "cell_type": "markdown",
   "id": "b5ac30a5-1f27-430e-ad2a-69c9f185a16d",
   "metadata": {
    "tags": []
   },
   "source": [
    "### 2 - Build MoE Model"
   ]
  },
  {
   "cell_type": "code",
   "execution_count": null,
   "id": "3d5e046e-f714-44db-a43a-d88319bf1989",
   "metadata": {},
   "outputs": [],
   "source": [
    "train_dataset = SequenceDataset(data.train, data, settings)\n",
    "train_loader = DataLoader(train_dataset, batch_size=batch_size, shuffle=False, drop_last=False)\n",
    "\n",
    "data.scalers['varIdx'] = train_dataset.varIdx\n",
    "\n",
    "X, y, I = next(iter(train_loader))\n",
    "print(X.shape, y.shape, I[0])"
   ]
  },
  {
   "cell_type": "code",
   "execution_count": null,
   "id": "42faf94c-4025-40c5-afcb-4fdedc2266dd",
   "metadata": {},
   "outputs": [],
   "source": [
    "torch.random.seed()\n",
    "\n",
    "model = MixtureOfExperts(n_inputs=len(data.inputs), settings = settings)\n",
    "loss_function = cumulative_dx_loss()\n",
    "optimizer = torch.optim.Adam(model.parameters(), lr=float(settings.get('learning_rate')))\n",
    "\n",
    "print(model)"
   ]
  },
  {
   "attachments": {},
   "cell_type": "markdown",
   "id": "c070e0f7-c5b3-4c27-b232-8ccdcbbbffe4",
   "metadata": {
    "tags": []
   },
   "source": [
    "### 4 - Train MoE Model"
   ]
  },
  {
   "cell_type": "code",
   "execution_count": null,
   "id": "a460693d-6578-414c-a23f-ad76250a7936",
   "metadata": {
    "tags": []
   },
   "outputs": [],
   "source": [
    "progress_bar = tqdm(total=settings['epochs'], desc=\"Training Progress\", unit=\"epoch\")\n",
    "for epoch in np.arange(settings['epochs']):\n",
    "\n",
    "    # ----> Training <----\n",
    "    trainloss,preds,y = train(data.df, \n",
    "                            data.train, \n",
    "                            train_loader, \n",
    "                            model, \n",
    "                            loss_function, \n",
    "                            data.scalers, \n",
    "                            optimizer,\n",
    "                            settings,\n",
    "                            device)\n",
    "    \n",
    "    progress_bar.set_description(f\"Loss: {trainloss:.3f}\")\n",
    "    progress_bar.update()\n",
    "    \n",
    "progress_bar.close()"
   ]
  },
  {
   "attachments": {},
   "cell_type": "markdown",
   "id": "dd6e5cc7",
   "metadata": {},
   "source": [
    "### 5 - Model Output"
   ]
  },
  {
   "cell_type": "code",
   "execution_count": null,
   "id": "50ce5689",
   "metadata": {},
   "outputs": [],
   "source": [
    "shoreline = destandardize(data.df[settings['shoreline']], data.scalers,'shoreline')\n",
    "training_start_position = data.df.index.get_loc(data.train.index[0])\n",
    "test_start_date = data.test.index[0]\n",
    "\n",
    "modelTrain = pd.DataFrame()\n",
    "modelTest = pd.DataFrame()\n",
    "\n",
    "train_dataset = SequenceDataset(data.train, data, settings)\n",
    "train_loader = DataLoader(train_dataset, batch_size=1, shuffle=False)\n",
    "test_dataset = SequenceDataset(data.test, data, settings)\n",
    "test_loader = DataLoader(test_dataset, batch_size=1, shuffle=False)\n",
    "\n",
    "modelTrain['model_output'], train_weight = predict(data.df, \n",
    "                        train_loader, \n",
    "                        model, \n",
    "                        data.scalers,\n",
    "                        training_start_position, \n",
    "                        settings)\n",
    "\n",
    "modelTest['model_output'], test_weight  = predict(data.df,               \n",
    "                            test_loader, \n",
    "                            model, \n",
    "                            data.scalers,\n",
    "                            test_start_date,           \n",
    "                            settings)\n",
    "\n",
    "modelTest.index = data.test.index\n",
    "modelTrain.index = data.train.index\n",
    "\n",
    "test_weight.index = data.test.index\n",
    "train_weight.index = data.train.index\n",
    "\n",
    "model_output = pd.concat([modelTrain, modelTest]).sort_index()\n",
    "weight = pd.concat([train_weight,test_weight]).sort_index()"
   ]
  },
  {
   "cell_type": "code",
   "execution_count": null,
   "id": "cdeb439e",
   "metadata": {},
   "outputs": [],
   "source": [
    "validation_obs = destandardize(data.test[settings['shoreline']], data.scalers, 'shoreline').to_numpy()\n",
    "validation_preds = modelTest['model_output'].to_numpy()\n",
    "\n",
    "NMSE, r2_validation = calculate_skill(validation_obs, validation_preds)\n",
    "NMSE, r2_validation"
   ]
  },
  {
   "cell_type": "code",
   "execution_count": null,
   "metadata": {},
   "outputs": [],
   "source": [
    "plt.style.use(\"bmh\")\n",
    "fig, axs = plt.subplots(1, 1, figsize=(20, 4), sharex=True, sharey=True)\n",
    "df = model_output.join(weight)\n",
    "df.rename(columns={0: 'weight'}, inplace=True)\n",
    "\n",
    "if settings['Model'] == 'Transformer':\n",
    "    axs.plot(model_output, color = 'purple', linewidth = 3, label = 'Transformer')\n",
    "    axs.legend(loc=2)\n",
    "\n",
    "elif settings['Model'] == 'LSTM':\n",
    "    axs.plot(modelTrain, linewidth = 2, label = 'Configuration')\n",
    "    axs.plot(modelTest, linewidth = 2, label = 'Validation')\n",
    "    axs.legend(loc=2)\n",
    "\n",
    "elif settings['Model'] == 'MoE':\n",
    "    for ii in range(len(df)):\n",
    "        temp = df[ii:ii+2]\n",
    "        c = ('#253D5B' if temp['weight'][-1] == 1 else '#CA2E55')\n",
    "        axs.plot(temp.model_output, color = c, linewidth = 3, zorder = 3)\n",
    "\n",
    "    custom_lines = [Line2D([0], [0], color='#253D5B', lw=2),\n",
    "                    Line2D([0], [0], color='#CA2E55', lw=2)]\n",
    "    axs.legend(custom_lines, ['LSTM', 'Storm Expert'], loc=2);\n",
    "\n",
    "axs.scatter(shoreline.index, shoreline, color = 'k', facecolor = 'w', alpha = 1, s = 30, zorder = 0, marker = 's')\n",
    "axs.axvline(data.train.index[-1], alpha=0.7, color='k', zorder = 0)\n",
    "axs.set_title(settings['shoreline'])"
   ]
  }
 ],
 "metadata": {
  "kernelspec": {
   "display_name": "moe",
   "language": "python",
   "name": "python3"
  },
  "language_info": {
   "codemirror_mode": {
    "name": "ipython",
    "version": 3
   },
   "file_extension": ".py",
   "mimetype": "text/x-python",
   "name": "python",
   "nbconvert_exporter": "python",
   "pygments_lexer": "ipython3",
   "version": "3.11.9"
  }
 },
 "nbformat": 4,
 "nbformat_minor": 5
}
